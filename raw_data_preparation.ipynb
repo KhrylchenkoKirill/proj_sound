{
 "cells": [
  {
   "cell_type": "code",
   "execution_count": 4,
   "metadata": {
    "ExecuteTime": {
     "end_time": "2019-06-17T12:50:58.110814Z",
     "start_time": "2019-06-17T12:50:58.106816Z"
    }
   },
   "outputs": [],
   "source": [
    "import numpy as np\n",
    "import pandas as pd\n",
    "\n",
    "import os\n",
    "import glob\n",
    "import librosa\n",
    "import tqdm\n",
    "import pickle\n",
    "\n",
    "DATA_PATH = './data'\n",
    "join_path = lambda path: os.path.join(DATA_PATH, path)"
   ]
  },
  {
   "cell_type": "code",
   "execution_count": 5,
   "metadata": {
    "ExecuteTime": {
     "end_time": "2019-06-17T12:50:58.686010Z",
     "start_time": "2019-06-17T12:50:58.683008Z"
    }
   },
   "outputs": [],
   "source": [
    "sampling_rate = 44100 # от оргов контеста\n",
    "duration = 2 # сколько секунд от записи хотим взять\n",
    "n_samples = sampling_rate * duration\n",
    "\n",
    "def get_raw(filepaths, verbose=False):\n",
    "    data = []\n",
    "    for fp in tqdm.tqdm(filepaths, disable=not verbose):\n",
    "        y, _ = librosa.load(fp, sr=sampling_rate)\n",
    "        y = np.concatenate([[0.] * (n_samples - len(y)), y[:n_samples]])\n",
    "        data.append(y.astype(np.float32))\n",
    "    data = np.array(data)\n",
    "    return data"
   ]
  },
  {
   "cell_type": "code",
   "execution_count": 7,
   "metadata": {
    "ExecuteTime": {
     "end_time": "2019-06-17T12:52:28.583874Z",
     "start_time": "2019-06-17T12:51:41.179476Z"
    }
   },
   "outputs": [
    {
     "name": "stderr",
     "output_type": "stream",
     "text": [
      "100%|█████████████████████████████████████| 4464/4464 [00:27<00:00, 163.04it/s]\n",
      "100%|███████████████████████████████████████| 506/506 [00:02<00:00, 171.80it/s]\n"
     ]
    }
   ],
   "source": [
    "train_filepaths = glob.glob(join_path('split/train/*'))\n",
    "val_filepaths = glob.glob(join_path('split/val/*'))\n",
    "\n",
    "train_data = get_raw(train_filepaths, verbose=True)\n",
    "with open(join_path('train_raw.pkl'), 'wb') as f:\n",
    "    pickle.dump(train_data, f, pickle.HIGHEST_PROTOCOL)\n",
    "\n",
    "val_data = get_raw(val_filepaths, verbose=True)\n",
    "with open(join_path('val_raw.pkl'), 'wb') as f:\n",
    "    pickle.dump(val_data, f, pickle.HIGHEST_PROTOCOL)"
   ]
  },
  {
   "cell_type": "code",
   "execution_count": 8,
   "metadata": {
    "ExecuteTime": {
     "end_time": "2019-06-17T12:52:52.881490Z",
     "start_time": "2019-06-17T12:52:52.722565Z"
    }
   },
   "outputs": [],
   "source": [
    "def get_targets(filepaths):\n",
    "    \n",
    "    targets = np.array(\n",
    "        train.loc[[get_filename(fp) for fp in filepaths], 'labels'] \\\n",
    "            .str \\\n",
    "            .split(',') \\\n",
    "            .apply(\n",
    "                lambda x: [int(label in x) for label in cats]\n",
    "            ) \\\n",
    "            .tolist()\n",
    "    )\n",
    "    \n",
    "    return targets\n",
    "\n",
    "get_filename = lambda x: x[-12:]\n",
    "\n",
    "train = pd.read_csv(join_path('train_curated.csv')).set_index('fname')\n",
    "\n",
    "cats = list(set(sum(list(train['labels'].str.split(',').values), [])))\n",
    "\n",
    "train_targets = get_targets(train_filepaths)\n",
    "val_targets = get_targets(val_filepaths)\n",
    "\n",
    "np.save(join_path('train_targets.npy'), train_targets)\n",
    "np.save(join_path('val_targets.npy'), val_targets)"
   ]
  }
 ],
 "metadata": {
  "kernelspec": {
   "display_name": "Python 3",
   "language": "python",
   "name": "python3"
  },
  "language_info": {
   "codemirror_mode": {
    "name": "ipython",
    "version": 3
   },
   "file_extension": ".py",
   "mimetype": "text/x-python",
   "name": "python",
   "nbconvert_exporter": "python",
   "pygments_lexer": "ipython3",
   "version": "3.6.8"
  },
  "latex_envs": {
   "LaTeX_envs_menu_present": true,
   "autoclose": false,
   "autocomplete": true,
   "bibliofile": "biblio.bib",
   "cite_by": "apalike",
   "current_citInitial": 1,
   "eqLabelWithNumbers": true,
   "eqNumInitial": 1,
   "hotkeys": {
    "equation": "Ctrl-E",
    "itemize": "Ctrl-I"
   },
   "labels_anchors": false,
   "latex_user_defs": false,
   "report_style_numbering": false,
   "user_envs_cfg": false
  }
 },
 "nbformat": 4,
 "nbformat_minor": 2
}
