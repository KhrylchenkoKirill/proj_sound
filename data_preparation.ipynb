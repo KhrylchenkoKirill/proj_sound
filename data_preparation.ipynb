{
 "cells": [
  {
   "cell_type": "code",
   "execution_count": 1,
   "metadata": {},
   "outputs": [],
   "source": [
    "import numpy as np\n",
    "import pandas as pd\n",
    "\n",
    "import os\n",
    "import glob\n",
    "import librosa\n",
    "import tqdm\n",
    "import pickle\n",
    "\n",
    "DATA_PATH = './data'\n",
    "join_path = lambda path: os.path.join(DATA_PATH, path)"
   ]
  },
  {
   "cell_type": "code",
   "execution_count": 2,
   "metadata": {},
   "outputs": [],
   "source": [
    "sampling_rate = 44100 # от оргов контеста\n",
    "duration = 2 # сколько секунд от записи хотим взять\n",
    "n_samples = sampling_rate * duration\n",
    "n_mels=128 # дефолтный параметр в самой либросе\n",
    "\n",
    "def audio2mel(audio):\n",
    "    #audio, _ = librosa.effects.trim(audio) # убирает участки тишины из audio, почти не влияет, да и может вредит\n",
    "    mel = librosa.feature.melspectrogram(\n",
    "        y=audio,\n",
    "        sr=sampling_rate,\n",
    "        n_mels=n_mels, # количество мел-признаков, дефолтное значение для librosa\n",
    "        n_fft=n_mels * 20, # это ширина окна для FFT\n",
    "        hop_length=346 * duration, # длина фрейма, n_samples // 128, чтобы получить 128 фреймов\n",
    "        # ось времени таки есть!\n",
    "        fmax=sampling_rate // 2, # максимальная частота сигнала, дефолтное значение для librosa\n",
    "        fmin = 0., # дефолтная наименьшая частота сигнала\n",
    "    )\n",
    "    mel = librosa.power_to_db(mel).astype(np.float32) # перевод в дб\n",
    "    return mel\n",
    "\n",
    "def get_mels(filepaths, verbose=False):\n",
    "    data = []\n",
    "    for fp in tqdm.tqdm(filepaths, disable=not verbose):\n",
    "        y, _ = librosa.load(fp, sr=sampling_rate)\n",
    "        y = np.concatenate([[0.] * (n_samples - len(y)), y[:n_samples]])\n",
    "        data.append(audio2mel(y))\n",
    "    data = np.array(data)\n",
    "    return data"
   ]
  },
  {
   "cell_type": "code",
   "execution_count": 3,
   "metadata": {},
   "outputs": [
    {
     "name": "stderr",
     "output_type": "stream",
     "text": [
      "100%|██████████| 4464/4464 [00:51<00:00, 86.23it/s] \n",
      "100%|██████████| 506/506 [00:05<00:00, 91.90it/s] \n"
     ]
    }
   ],
   "source": [
    "# saving train_curated melspectrograms as a single file\n",
    "\n",
    "train_filepaths = glob.glob(join_path('split/train/*'))\n",
    "val_filepaths = glob.glob(join_path('split/val/*'))\n",
    "\n",
    "train_data = get_mels(train_filepaths, verbose=True)\n",
    "with open(join_path('train_mels.pkl'), 'wb') as f:\n",
    "    pickle.dump(train_data, f, pickle.HIGHEST_PROTOCOL)\n",
    "\n",
    "val_data = get_mels(val_filepaths, verbose=True)\n",
    "with open(join_path('val_mels.pkl'), 'wb') as f:\n",
    "    pickle.dump(val_data, f, pickle.HIGHEST_PROTOCOL)"
   ]
  },
  {
   "cell_type": "code",
   "execution_count": 17,
   "metadata": {},
   "outputs": [],
   "source": [
    "# saving targets\n",
    "\n",
    "def get_targets(filepaths):\n",
    "    \n",
    "    targets = np.array(\n",
    "        train.loc[[get_filename(fp) for fp in filepaths], 'labels'] \\\n",
    "            .str \\\n",
    "            .split(',') \\\n",
    "            .apply(\n",
    "                lambda x: [int(label in x) for label in cats]\n",
    "            ) \\\n",
    "            .tolist()\n",
    "    )\n",
    "    \n",
    "    return targets\n",
    "\n",
    "get_filename = lambda x: x[-12:]\n",
    "\n",
    "train = pd.read_csv(join_path('train_curated.csv')).set_index('fname')\n",
    "\n",
    "cats = list(set(sum(list(train['labels'].str.split(',').values), [])))\n",
    "\n",
    "train_targets = get_targets(train_filepaths)\n",
    "val_targets = get_targets(val_filepaths)\n",
    "\n",
    "np.save(join_path('train_targets.npy'), train_targets)\n",
    "np.save(join_path('val_targets.npy'), val_targets)"
   ]
  }
 ],
 "metadata": {
  "kernelspec": {
   "display_name": "Python 3",
   "language": "python",
   "name": "python3"
  },
  "language_info": {
   "codemirror_mode": {
    "name": "ipython",
    "version": 3
   },
   "file_extension": ".py",
   "mimetype": "text/x-python",
   "name": "python",
   "nbconvert_exporter": "python",
   "pygments_lexer": "ipython3",
   "version": "3.7.1"
  }
 },
 "nbformat": 4,
 "nbformat_minor": 2
}
