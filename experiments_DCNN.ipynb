{
 "cells": [
  {
   "cell_type": "code",
   "execution_count": 1,
   "metadata": {},
   "outputs": [],
   "source": [
    "import numpy as np\n",
    "import pandas as pd\n",
    "\n",
    "import os\n",
    "import glob\n",
    "import librosa\n",
    "import tqdm\n",
    "import pickle\n",
    "import time\n",
    "\n",
    "from collections import Counter, defaultdict\n",
    "\n",
    "from torch.utils.data import TensorDataset, DataLoader, Dataset\n",
    "from torch.optim import lr_scheduler\n",
    "from torch import nn\n",
    "import torch.nn.functional as F\n",
    "import torch\n",
    "\n",
    "from skmultilearn.model_selection import iterative_train_test_split\n",
    "\n",
    "import matplotlib.pyplot as plt\n",
    "import seaborn as sns\n",
    "\n",
    "import utils\n",
    "from flame import Trainer\n",
    "\n",
    "sns.set()\n",
    "\n",
    "DATA_PATH = './data'\n",
    "join_path = lambda path: os.path.join(DATA_PATH, path)"
   ]
  },
  {
   "cell_type": "code",
   "execution_count": 2,
   "metadata": {},
   "outputs": [],
   "source": [
    "with open(join_path('train_mels.pkl'), 'rb+') as f:\n",
    "    train_X = pickle.load(f)\n",
    "    \n",
    "with open(join_path('val_mels.pkl'), 'rb+') as f:\n",
    "    val_X = pickle.load(f)\n",
    "    \n",
    "train_y = np.load(join_path('train_targets.npy'))\n",
    "val_y = np.load(join_path('val_targets.npy'))"
   ]
  },
  {
   "cell_type": "code",
   "execution_count": 3,
   "metadata": {},
   "outputs": [],
   "source": [
    "train_ds = utils.create_ds(train_X, train_y)\n",
    "train_dl = DataLoader(train_ds, batch_size=64, shuffle=True)\n",
    "\n",
    "val_ds = utils.create_ds(val_X, val_y)\n",
    "val_dl = DataLoader(val_ds, batch_size=64, shuffle=False)"
   ]
  },
  {
   "cell_type": "code",
   "execution_count": 4,
   "metadata": {},
   "outputs": [],
   "source": [
    "# Deep Convolutional Neural Network for Environmental Sound Classification\n",
    "# https://arxiv.org/pdf/1608.04363v2.pdf\n",
    "\n",
    "class DCNN(nn.Module):\n",
    "    def __init__(self, hid=256):\n",
    "        super().__init__()\n",
    "        self.convs = nn.Sequential(\n",
    "            nn.Conv2d(in_channels=1, out_channels=24, kernel_size=5),\n",
    "            nn.MaxPool2d(kernel_size=(4, 2), stride=(4, 2)),\n",
    "            nn.ReLU(),\n",
    "            nn.Conv2d(in_channels=24, out_channels=48, kernel_size=5),\n",
    "            nn.MaxPool2d(kernel_size=(4, 2), stride=(4, 2)),\n",
    "            nn.ReLU(),\n",
    "            nn.Conv2d(in_channels=48, out_channels=48,kernel_size=5),\n",
    "            nn.ReLU()\n",
    "        )\n",
    "        \n",
    "        self.clf = nn.Sequential(\n",
    "            nn.Dropout(0.5),\n",
    "            nn.Linear(in_features=2400, out_features=hid),\n",
    "            nn.ReLU(),\n",
    "            nn.Dropout(0.5),\n",
    "            nn.Linear(in_features=hid, out_features=80)\n",
    "        )\n",
    "        \n",
    "        \n",
    "    def forward(self, x):\n",
    "        x = self.convs(x)\n",
    "        x = x.flatten(start_dim=1)\n",
    "        x = self.clf(x)\n",
    "        return x"
   ]
  },
  {
   "cell_type": "code",
   "execution_count": 5,
   "metadata": {},
   "outputs": [],
   "source": [
    "device = torch.device('cuda' if torch.cuda.is_available() else 'cpu')\n",
    "criterion = nn.BCEWithLogitsLoss()\n",
    "\n",
    "model = DCNN(hid=256)\n",
    "optimizer = torch.optim.Adam(model.parameters(), lr=1e-3)\n",
    "logdir = join_path('DCNN_logdir')\n",
    "\n",
    "trainer = Trainer(model, optimizer, criterion, device, logdir)\n",
    "\n",
    "scheduler = lr_scheduler.ReduceLROnPlateau(\n",
    "    optimizer=optimizer,\n",
    "    mode='max',\n",
    "    factor=0.5,\n",
    "    patience=10,\n",
    "    verbose=True\n",
    ")"
   ]
  },
  {
   "cell_type": "code",
   "execution_count": 6,
   "metadata": {},
   "outputs": [
    {
     "name": "stdout",
     "output_type": "stream",
     "text": [
      "Epoch, best_val_lwlrap\n",
      "   1, 0.0940\n",
      "   2, 0.1527\n",
      "   3, 0.1881\n",
      "   4, 0.2457\n",
      "   5, 0.2947\n",
      "   6, 0.3330\n",
      "   7, 0.3693\n",
      "   8, 0.3860\n",
      "   9, 0.4117\n",
      "  11, 0.4500\n",
      "  13, 0.4672\n",
      "  14, 0.5050\n",
      "  16, 0.5120\n",
      "  17, 0.5192\n",
      "  20, 0.5461\n",
      "  21, 0.5670\n",
      "  23, 0.5696\n",
      "  27, 0.5745\n",
      "  28, 0.5852\n",
      "  35, 0.5917\n",
      "  37, 0.6023\n",
      "  45, 0.6044\n",
      "  48, 0.6077\n",
      "  52, 0.6156\n",
      "  62, 0.6231\n",
      "Epoch    73: reducing learning rate of group 0 to 5.0000e-04.\n",
      "  82, 0.6241\n",
      "Epoch    93: reducing learning rate of group 0 to 2.5000e-04.\n",
      " 102, 0.6265\n",
      " 113, 0.6295\n",
      "Epoch   124: reducing learning rate of group 0 to 1.2500e-04.\n",
      "Done.\n"
     ]
    }
   ],
   "source": [
    "losses, best_loss, epoch_time = utils.train_model(trainer, train_dl, val_dl, val_y, scheduler,\n",
    "                                            n_epochs=1000, gap=20, verbose=True)"
   ]
  },
  {
   "cell_type": "code",
   "execution_count": 10,
   "metadata": {},
   "outputs": [
    {
     "data": {
      "text/plain": [
       "(0.9900907663474405, 0.6295172510050132)"
      ]
     },
     "execution_count": 10,
     "metadata": {},
     "output_type": "execute_result"
    }
   ],
   "source": [
    "epoch_time, best_loss"
   ]
  },
  {
   "cell_type": "code",
   "execution_count": 11,
   "metadata": {},
   "outputs": [
    {
     "data": {
      "text/plain": [
       "Text(0.5, 1.0, 'Logloss')"
      ]
     },
     "execution_count": 11,
     "metadata": {},
     "output_type": "execute_result"
    },
    {
     "data": {
      "image/png": "[encoded data removed]",
      "text/plain": [
       "<Figure size 432x288 with 1 Axes>"
      ]
     },
     "metadata": {
      "needs_background": "light"
     },
     "output_type": "display_data"
    }
   ],
   "source": [
    "plt.plot(losses['train']['logloss'])\n",
    "plt.plot(losses['val']['logloss'])\n",
    "plt.legend(['train', 'val'])\n",
    "\n",
    "plt.xlabel('Epoch')\n",
    "plt.ylabel('Loss')\n",
    "\n",
    "plt.title('Logloss')"
   ]
  },
  {
   "cell_type": "code",
   "execution_count": 12,
   "metadata": {},
   "outputs": [
    {
     "data": {
      "text/plain": [
       "Text(0.5, 1.0, 'Lwlrap')"
      ]
     },
     "execution_count": 12,
     "metadata": {},
     "output_type": "execute_result"
    },
    {
     "data": {
      "image/png": "[encoded data removed]",
      "text/plain": [
       "<Figure size 432x288 with 1 Axes>"
      ]
     },
     "metadata": {
      "needs_background": "light"
     },
     "output_type": "display_data"
    }
   ],
   "source": [
    "plt.plot(losses['train']['lwlrap'])\n",
    "plt.plot(losses['val']['lwlrap'])\n",
    "plt.legend(['train', 'val'])\n",
    "\n",
    "plt.xlabel('Epoch')\n",
    "plt.ylabel('Loss')\n",
    "\n",
    "plt.title('Lwlrap')"
   ]
  },
  {
   "cell_type": "code",
   "execution_count": 17,
   "metadata": {},
   "outputs": [],
   "source": [
    "with open(join_path('DCNN_losses.pkl'), 'wb+') as f:\n",
    "    pickle.dump(losses, f)"
   ]
  }
 ],
 "metadata": {
  "kernelspec": {
   "display_name": "Python 3",
   "language": "python",
   "name": "python3"
  },
  "language_info": {
   "codemirror_mode": {
    "name": "ipython",
    "version": 3
   },
   "file_extension": ".py",
   "mimetype": "text/x-python",
   "name": "python",
   "nbconvert_exporter": "python",
   "pygments_lexer": "ipython3",
   "version": "3.7.1"
  }
 },
 "nbformat": 4,
 "nbformat_minor": 2
}
