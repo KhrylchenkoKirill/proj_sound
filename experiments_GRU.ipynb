{
 "cells": [
  {
   "cell_type": "code",
   "execution_count": 1,
   "metadata": {},
   "outputs": [],
   "source": [
    "import numpy as np\n",
    "import pandas as pd\n",
    "\n",
    "import os\n",
    "import glob\n",
    "import librosa\n",
    "import tqdm\n",
    "import pickle\n",
    "import time\n",
    "\n",
    "from collections import Counter, defaultdict\n",
    "\n",
    "from torch.utils.data import TensorDataset, DataLoader, Dataset\n",
    "from torch.optim import lr_scheduler\n",
    "from torch import nn\n",
    "import torch.nn.functional as F\n",
    "import torch\n",
    "\n",
    "from skmultilearn.model_selection import iterative_train_test_split\n",
    "\n",
    "import matplotlib.pyplot as plt\n",
    "import seaborn as sns\n",
    "\n",
    "import utils\n",
    "from flame import Trainer\n",
    "\n",
    "sns.set()\n",
    "\n",
    "DATA_PATH = './data'\n",
    "join_path = lambda path: os.path.join(DATA_PATH, path)"
   ]
  },
  {
   "cell_type": "code",
   "execution_count": 2,
   "metadata": {},
   "outputs": [],
   "source": [
    "with open(join_path('train_mels.pkl'), 'rb+') as f:\n",
    "    train_X = pickle.load(f)\n",
    "    \n",
    "with open(join_path('val_mels.pkl'), 'rb+') as f:\n",
    "    val_X = pickle.load(f)\n",
    "    \n",
    "train_y = np.load(join_path('train_targets.npy'))\n",
    "val_y = np.load(join_path('val_targets.npy'))"
   ]
  },
  {
   "cell_type": "code",
   "execution_count": 3,
   "metadata": {},
   "outputs": [],
   "source": [
    "train_ds = utils.create_ds(train_X, train_y)\n",
    "train_dl = DataLoader(train_ds, batch_size=64, shuffle=True)\n",
    "\n",
    "val_ds = utils.create_ds(val_X, val_y)\n",
    "val_dl = DataLoader(val_ds, batch_size=64, shuffle=False)"
   ]
  },
  {
   "cell_type": "code",
   "execution_count": 6,
   "metadata": {},
   "outputs": [],
   "source": [
    "class GRUModel(nn.Module):\n",
    "    def __init__(self):\n",
    "        super().__init__()\n",
    "        self.gru = nn.GRU(\n",
    "            input_size=128,\n",
    "            hidden_size=64,\n",
    "            num_layers=3,\n",
    "            dropout=0.2,\n",
    "            bias=True,\n",
    "            batch_first=True,\n",
    "            bidirectional=True\n",
    "        )\n",
    "        self.clf = nn.Linear(384, 80)\n",
    "    def forward(self, x):\n",
    "        x = x.squeeze(1).permute(0, 2, 1)\n",
    "        seq, h = self.gru(x)\n",
    "        h = h.permute(1, 0, 2)\n",
    "        h = h.contiguous().view(h.size(0), -1)\n",
    "        h = self.clf(h)\n",
    "        return h"
   ]
  },
  {
   "cell_type": "code",
   "execution_count": 7,
   "metadata": {},
   "outputs": [],
   "source": [
    "device = torch.device('cuda' if torch.cuda.is_available() else 'cpu')\n",
    "criterion = nn.BCEWithLogitsLoss()\n",
    "\n",
    "model = GRUModel()\n",
    "optimizer = torch.optim.Adam(model.parameters(), lr=1e-3)\n",
    "logdir = join_path('ModifiedDCNN_logdir')\n",
    "\n",
    "trainer = Trainer(model, optimizer, criterion, device, logdir)\n",
    "\n",
    "scheduler = lr_scheduler.ReduceLROnPlateau(\n",
    "    optimizer=optimizer,\n",
    "    mode='max',\n",
    "    factor=0.5,\n",
    "    patience=10,\n",
    "    verbose=True\n",
    ")"
   ]
  },
  {
   "cell_type": "code",
   "execution_count": 8,
   "metadata": {},
   "outputs": [
    {
     "name": "stdout",
     "output_type": "stream",
     "text": [
      "Epoch, best_val_lwlrap\n",
      "   1, 0.0969\n",
      "   2, 0.1225\n",
      "   3, 0.1769\n",
      "   4, 0.1998\n",
      "   6, 0.2297\n",
      "   7, 0.2448\n",
      "   8, 0.2756\n",
      "   9, 0.2843\n",
      "  11, 0.3074\n",
      "  13, 0.3212\n",
      "  14, 0.3310\n",
      "  15, 0.3407\n",
      "  16, 0.3434\n",
      "  17, 0.3593\n",
      "  19, 0.3597\n",
      "  20, 0.3625\n",
      "  21, 0.3806\n",
      "  25, 0.3965\n",
      "  29, 0.4054\n",
      "  35, 0.4151\n",
      "  40, 0.4313\n",
      "  48, 0.4445\n",
      "Epoch    59: reducing learning rate of group 0 to 5.0000e-04.\n",
      "  60, 0.4512\n",
      "  63, 0.4529\n",
      "  68, 0.4614\n",
      "  72, 0.4639\n",
      "Epoch    83: reducing learning rate of group 0 to 2.5000e-04.\n",
      "Done.\n"
     ]
    }
   ],
   "source": [
    "losses, best_loss, epoch_time = utils.train_model(trainer, train_dl, val_dl, val_y, scheduler,\n",
    "                                            n_epochs=1000, gap=20, verbose=True)"
   ]
  },
  {
   "cell_type": "code",
   "execution_count": 9,
   "metadata": {},
   "outputs": [
    {
     "data": {
      "text/plain": [
       "(2.1434861266094707, 0.46393132036167517)"
      ]
     },
     "execution_count": 9,
     "metadata": {},
     "output_type": "execute_result"
    }
   ],
   "source": [
    "epoch_time, best_loss"
   ]
  },
  {
   "cell_type": "code",
   "execution_count": 10,
   "metadata": {},
   "outputs": [
    {
     "data": {
      "text/plain": [
       "Text(0.5, 1.0, 'Logloss')"
      ]
     },
     "execution_count": 10,
     "metadata": {},
     "output_type": "execute_result"
    },
    {
     "data": {
      "image/png": "[encoded data removed]",
      "text/plain": [
       "<Figure size 432x288 with 1 Axes>"
      ]
     },
     "metadata": {
      "needs_background": "light"
     },
     "output_type": "display_data"
    }
   ],
   "source": [
    "plt.plot(losses['train']['logloss'])\n",
    "plt.plot(losses['val']['logloss'])\n",
    "plt.legend(['train', 'val'])\n",
    "\n",
    "plt.xlabel('Epoch')\n",
    "plt.ylabel('Loss')\n",
    "\n",
    "plt.title('Logloss')"
   ]
  },
  {
   "cell_type": "code",
   "execution_count": 11,
   "metadata": {},
   "outputs": [
    {
     "data": {
      "text/plain": [
       "Text(0.5, 1.0, 'Lwlrap')"
      ]
     },
     "execution_count": 11,
     "metadata": {},
     "output_type": "execute_result"
    },
    {
     "data": {
      "image/png": "[encoded data removed]",
      "text/plain": [
       "<Figure size 432x288 with 1 Axes>"
      ]
     },
     "metadata": {
      "needs_background": "light"
     },
     "output_type": "display_data"
    }
   ],
   "source": [
    "plt.plot(losses['train']['lwlrap'])\n",
    "plt.plot(losses['val']['lwlrap'])\n",
    "plt.legend(['train', 'val'])\n",
    "\n",
    "plt.xlabel('Epoch')\n",
    "plt.ylabel('Loss')\n",
    "\n",
    "plt.title('Lwlrap')"
   ]
  },
  {
   "cell_type": "code",
   "execution_count": 12,
   "metadata": {},
   "outputs": [],
   "source": [
    "with open(join_path('GRU_losses.pkl'), 'wb+') as f:\n",
    "    pickle.dump(losses, f)"
   ]
  }
 ],
 "metadata": {
  "kernelspec": {
   "display_name": "Python 3",
   "language": "python",
   "name": "python3"
  },
  "language_info": {
   "codemirror_mode": {
    "name": "ipython",
    "version": 3
   },
   "file_extension": ".py",
   "mimetype": "text/x-python",
   "name": "python",
   "nbconvert_exporter": "python",
   "pygments_lexer": "ipython3",
   "version": "3.7.1"
  }
 },
 "nbformat": 4,
 "nbformat_minor": 2
}
