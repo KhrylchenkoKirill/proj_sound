{
 "cells": [
  {
   "cell_type": "code",
   "execution_count": 1,
   "metadata": {
    "ExecuteTime": {
     "end_time": "2019-06-18T15:13:11.408267Z",
     "start_time": "2019-06-18T15:13:08.846715Z"
    }
   },
   "outputs": [],
   "source": [
    "import numpy as np\n",
    "import pandas as pd\n",
    "\n",
    "import os\n",
    "import glob\n",
    "import librosa\n",
    "import tqdm\n",
    "import pickle\n",
    "import time\n",
    "\n",
    "from collections import Counter, defaultdict\n",
    "\n",
    "from torch.utils.data import TensorDataset, DataLoader, Dataset\n",
    "from torch.optim import lr_scheduler\n",
    "from torch import nn\n",
    "import torch.nn.functional as F\n",
    "import torch\n",
    "\n",
    "from skmultilearn.model_selection import iterative_train_test_split\n",
    "\n",
    "import matplotlib.pyplot as plt\n",
    "import seaborn as sns\n",
    "\n",
    "import utils\n",
    "from flame import Trainer\n",
    "\n",
    "sns.set()\n",
    "\n",
    "DATA_PATH = './data'\n",
    "join_path = lambda path: os.path.join(DATA_PATH, path)"
   ]
  },
  {
   "cell_type": "code",
   "execution_count": 2,
   "metadata": {
    "ExecuteTime": {
     "end_time": "2019-06-18T15:13:13.468272Z",
     "start_time": "2019-06-18T15:13:11.409264Z"
    }
   },
   "outputs": [],
   "source": [
    "with open(join_path('train_raw.pkl'), 'rb+') as f:\n",
    "    train_X = pickle.load(f)\n",
    "    \n",
    "with open(join_path('val_raw.pkl'), 'rb+') as f:\n",
    "    val_X = pickle.load(f)\n",
    "    \n",
    "train_y = np.load(join_path('train_targets.npy'))\n",
    "val_y = np.load(join_path('val_targets.npy'))"
   ]
  },
  {
   "cell_type": "code",
   "execution_count": 3,
   "metadata": {
    "ExecuteTime": {
     "end_time": "2019-06-18T15:13:13.476268Z",
     "start_time": "2019-06-18T15:13:13.469274Z"
    }
   },
   "outputs": [],
   "source": [
    "train_ds = TensorDataset(torch.FloatTensor(train_X).unsqueeze(1).contiguous(), torch.FloatTensor(train_y))\n",
    "train_dl = DataLoader(train_ds, batch_size=64, shuffle=True)\n",
    "\n",
    "val_ds = TensorDataset(torch.FloatTensor(val_X).unsqueeze(1).contiguous(), torch.FloatTensor(val_y))\n",
    "val_dl = DataLoader(val_ds, batch_size=64, shuffle=False)"
   ]
  },
  {
   "cell_type": "code",
   "execution_count": 4,
   "metadata": {
    "ExecuteTime": {
     "end_time": "2019-06-18T15:13:13.870572Z",
     "start_time": "2019-06-18T15:13:13.478268Z"
    }
   },
   "outputs": [
    {
     "data": {
      "text/plain": [
       "[<matplotlib.lines.Line2D at 0x2a478baa9b0>]"
      ]
     },
     "execution_count": 4,
     "metadata": {},
     "output_type": "execute_result"
    },
    {
     "data": {
      "image/png": "[encoded data removed]",
      "text/plain": [
       "<Figure size 432x288 with 1 Axes>"
      ]
     },
     "metadata": {},
     "output_type": "display_data"
    }
   ],
   "source": [
    "import matplotlib.pyplot as plt\n",
    "%matplotlib inline\n",
    "\n",
    "plt.plot(train_X[9])"
   ]
  },
  {
   "cell_type": "code",
   "execution_count": 5,
   "metadata": {
    "ExecuteTime": {
     "end_time": "2019-06-18T15:13:13.880554Z",
     "start_time": "2019-06-18T15:13:13.871561Z"
    }
   },
   "outputs": [],
   "source": [
    "# Sample-level Deep Convolutional Neural Networks for Music Auto-tagging Using Raw Waveforms\n",
    "# https://arxiv.org/abs/1703.01789\n",
    "\n",
    "ConvBlock = lambda in_channels, out_channels: nn.Sequential(\n",
    "            nn.Conv1d(in_channels, out_channels, kernel_size=3, padding=1),\n",
    "            nn.BatchNorm1d(out_channels),\n",
    "            nn.ReLU(),\n",
    "            nn.MaxPool1d(kernel_size=3),\n",
    ")\n",
    "\n",
    "class SampleCNN(nn.Module):\n",
    "    def __init__(self):\n",
    "        super().__init__()\n",
    "        \n",
    "        self.convs = nn.Sequential(\n",
    "            nn.Conv1d(1, 64, kernel_size=3, stride=3),\n",
    "            nn.BatchNorm1d(64),\n",
    "            nn.ReLU(),\n",
    "            ConvBlock(64, 64),\n",
    "            ConvBlock(64, 128),\n",
    "            ConvBlock(128, 128),\n",
    "            ConvBlock(128, 128),\n",
    "            ConvBlock(128, 256),\n",
    "            ConvBlock(256, 256),\n",
    "            ConvBlock(256, 256),\n",
    "            ConvBlock(256, 512),\n",
    "            ConvBlock(512, 512),\n",
    "        )\n",
    "        \n",
    "        self.head = nn.Linear(512, 80)\n",
    "        \n",
    "    def forward(self, x):\n",
    "        return self.head(self.convs(x).view(x.shape[0], -1))"
   ]
  },
  {
   "cell_type": "code",
   "execution_count": 6,
   "metadata": {
    "ExecuteTime": {
     "end_time": "2019-06-18T15:13:15.951595Z",
     "start_time": "2019-06-18T15:13:13.881553Z"
    }
   },
   "outputs": [],
   "source": [
    "device = torch.device('cuda' if torch.cuda.is_available() else 'cpu')\n",
    "criterion = nn.BCEWithLogitsLoss()\n",
    "\n",
    "model = SampleCNN()\n",
    "optimizer = torch.optim.Adam(model.parameters(), lr=1e-4)\n",
    "logdir = join_path('SampleCNN_logdir')\n",
    "\n",
    "trainer = Trainer(model, optimizer, criterion, device, logdir)\n",
    "\n",
    "scheduler = lr_scheduler.ReduceLROnPlateau(\n",
    "    optimizer=optimizer,\n",
    "    mode='max',\n",
    "    factor=0.5,\n",
    "    patience=10,\n",
    "    verbose=True\n",
    ")"
   ]
  },
  {
   "cell_type": "code",
   "execution_count": 7,
   "metadata": {
    "ExecuteTime": {
     "end_time": "2019-06-18T15:13:15.961574Z",
     "start_time": "2019-06-18T15:13:15.952579Z"
    }
   },
   "outputs": [
    {
     "name": "stdout",
     "output_type": "stream",
     "text": [
      "Numebr of parameters:  1854480\n"
     ]
    }
   ],
   "source": [
    "print(\"Numebr of parameters: \", sum(p.numel() for p in model.parameters() if p.requires_grad))"
   ]
  },
  {
   "cell_type": "code",
   "execution_count": 8,
   "metadata": {
    "ExecuteTime": {
     "end_time": "2019-06-18T15:34:05.290545Z",
     "start_time": "2019-06-18T15:13:15.963573Z"
    }
   },
   "outputs": [
    {
     "name": "stdout",
     "output_type": "stream",
     "text": [
      "Epoch, best_val_lwlrap\n",
      "   1, 0.0826\n",
      "   2, 0.1302\n",
      "   3, 0.1897\n",
      "   4, 0.2231\n",
      "   5, 0.2636\n",
      "   6, 0.3058\n",
      "   7, 0.3300\n",
      "   8, 0.3645\n",
      "   9, 0.3748\n",
      "  10, 0.3918\n",
      "  11, 0.4111\n",
      "  12, 0.4347\n",
      "  13, 0.4422\n",
      "  14, 0.4641\n",
      "  15, 0.4952\n",
      "  16, 0.4957\n",
      "  17, 0.5078\n",
      "  18, 0.5307\n",
      "  20, 0.5595\n",
      "  21, 0.5631\n",
      "  22, 0.5785\n",
      "  26, 0.5997\n",
      "  28, 0.6014\n",
      "  29, 0.6023\n",
      "  30, 0.6072\n",
      "  31, 0.6127\n",
      "  32, 0.6191\n",
      "  33, 0.6246\n",
      "  35, 0.6265\n",
      "  43, 0.6266\n",
      "  44, 0.6285\n",
      "  49, 0.6352\n",
      "Epoch    60: reducing learning rate of group 0 to 5.0000e-05.\n",
      "  64, 0.6356\n",
      "Epoch    75: reducing learning rate of group 0 to 2.5000e-05.\n",
      "Done.\n"
     ]
    }
   ],
   "source": [
    "losses, best_loss, epoch_time = utils.train_model(trainer, train_dl, val_dl, val_y, scheduler,\n",
    "                                            n_epochs=200, gap=20, verbose=True)"
   ]
  },
  {
   "cell_type": "code",
   "execution_count": 9,
   "metadata": {
    "ExecuteTime": {
     "end_time": "2019-06-18T15:34:05.296431Z",
     "start_time": "2019-06-18T15:34:05.291442Z"
    }
   },
   "outputs": [
    {
     "data": {
      "text/plain": [
       "(14.089719454447428, 0.6355785918034172)"
      ]
     },
     "execution_count": 9,
     "metadata": {},
     "output_type": "execute_result"
    }
   ],
   "source": [
    "epoch_time, best_loss"
   ]
  },
  {
   "cell_type": "code",
   "execution_count": 11,
   "metadata": {
    "ExecuteTime": {
     "end_time": "2019-06-18T15:54:30.815273Z",
     "start_time": "2019-06-18T15:54:30.810249Z"
    }
   },
   "outputs": [
    {
     "data": {
      "text/plain": [
       "0.0006636706118291546"
      ]
     },
     "execution_count": 11,
     "metadata": {},
     "output_type": "execute_result"
    }
   ],
   "source": [
    "min(losses['val']['logloss'])"
   ]
  },
  {
   "cell_type": "code",
   "execution_count": 12,
   "metadata": {
    "ExecuteTime": {
     "end_time": "2019-06-18T15:54:35.073024Z",
     "start_time": "2019-06-18T15:54:34.944116Z"
    }
   },
   "outputs": [
    {
     "data": {
      "text/plain": [
       "Text(0.5,1,'Logloss')"
      ]
     },
     "execution_count": 12,
     "metadata": {},
     "output_type": "execute_result"
    },
    {
     "data": {
      "image/png": "[encoded data removed]",
      "text/plain": [
       "<Figure size 432x288 with 1 Axes>"
      ]
     },
     "metadata": {},
     "output_type": "display_data"
    }
   ],
   "source": [
    "plt.plot(losses['train']['logloss'])\n",
    "plt.plot(losses['val']['logloss'])\n",
    "plt.legend(['train', 'val'])\n",
    "\n",
    "plt.xlabel('Epoch')\n",
    "plt.ylabel('Loss')\n",
    "\n",
    "plt.title('Logloss')"
   ]
  },
  {
   "cell_type": "code",
   "execution_count": 13,
   "metadata": {
    "ExecuteTime": {
     "end_time": "2019-06-18T15:54:35.210970Z",
     "start_time": "2019-06-18T15:54:35.098035Z"
    }
   },
   "outputs": [
    {
     "data": {
      "text/plain": [
       "Text(0.5,1,'Lwlrap')"
      ]
     },
     "execution_count": 13,
     "metadata": {},
     "output_type": "execute_result"
    },
    {
     "data": {
      "image/png": "[encoded data removed]",
      "text/plain": [
       "<Figure size 432x288 with 1 Axes>"
      ]
     },
     "metadata": {},
     "output_type": "display_data"
    }
   ],
   "source": [
    "plt.plot(losses['train']['lwlrap'])\n",
    "plt.plot(losses['val']['lwlrap'])\n",
    "plt.legend(['train', 'val'])\n",
    "\n",
    "plt.xlabel('Epoch')\n",
    "plt.ylabel('Loss')\n",
    "\n",
    "plt.title('Lwlrap')"
   ]
  }
 ],
 "metadata": {
  "kernelspec": {
   "display_name": "Python 3",
   "language": "python",
   "name": "python3"
  },
  "language_info": {
   "codemirror_mode": {
    "name": "ipython",
    "version": 3
   },
   "file_extension": ".py",
   "mimetype": "text/x-python",
   "name": "python",
   "nbconvert_exporter": "python",
   "pygments_lexer": "ipython3",
   "version": "3.6.8"
  },
  "latex_envs": {
   "LaTeX_envs_menu_present": true,
   "autoclose": false,
   "autocomplete": true,
   "bibliofile": "biblio.bib",
   "cite_by": "apalike",
   "current_citInitial": 1,
   "eqLabelWithNumbers": true,
   "eqNumInitial": 1,
   "hotkeys": {
    "equation": "Ctrl-E",
    "itemize": "Ctrl-I"
   },
   "labels_anchors": false,
   "latex_user_defs": false,
   "report_style_numbering": false,
   "user_envs_cfg": false
  },
  "notify_time": "5"
 },
 "nbformat": 4,
 "nbformat_minor": 2
}
