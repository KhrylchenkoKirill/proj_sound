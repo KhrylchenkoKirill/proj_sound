{
 "cells": [
  {
   "cell_type": "code",
   "execution_count": 1,
   "metadata": {
    "ExecuteTime": {
     "end_time": "2019-06-18T15:55:49.804463Z",
     "start_time": "2019-06-18T15:55:47.207235Z"
    }
   },
   "outputs": [],
   "source": [
    "import numpy as np\n",
    "import pandas as pd\n",
    "\n",
    "import os\n",
    "import glob\n",
    "import librosa\n",
    "import tqdm\n",
    "import pickle\n",
    "import time\n",
    "\n",
    "from collections import Counter, defaultdict\n",
    "\n",
    "from torch.utils.data import TensorDataset, DataLoader, Dataset\n",
    "from torch.optim import lr_scheduler\n",
    "from torch import nn\n",
    "import torch.nn.functional as F\n",
    "import torch\n",
    "\n",
    "from skmultilearn.model_selection import iterative_train_test_split\n",
    "\n",
    "import matplotlib.pyplot as plt\n",
    "import seaborn as sns\n",
    "\n",
    "import utils\n",
    "from flame import Trainer\n",
    "\n",
    "sns.set()\n",
    "\n",
    "DATA_PATH = './data'\n",
    "join_path = lambda path: os.path.join(DATA_PATH, path)"
   ]
  },
  {
   "cell_type": "code",
   "execution_count": 2,
   "metadata": {
    "ExecuteTime": {
     "end_time": "2019-06-18T15:55:51.899304Z",
     "start_time": "2019-06-18T15:55:49.805424Z"
    }
   },
   "outputs": [],
   "source": [
    "with open(join_path('train_raw.pkl'), 'rb+') as f:\n",
    "    train_X = pickle.load(f)\n",
    "    \n",
    "with open(join_path('val_raw.pkl'), 'rb+') as f:\n",
    "    val_X = pickle.load(f)\n",
    "    \n",
    "train_y = np.load(join_path('train_targets.npy'))\n",
    "val_y = np.load(join_path('val_targets.npy'))"
   ]
  },
  {
   "cell_type": "code",
   "execution_count": 3,
   "metadata": {
    "ExecuteTime": {
     "end_time": "2019-06-18T15:55:51.906305Z",
     "start_time": "2019-06-18T15:55:51.900305Z"
    }
   },
   "outputs": [],
   "source": [
    "train_ds = TensorDataset(torch.FloatTensor(train_X).unsqueeze(1).contiguous(), torch.FloatTensor(train_y))\n",
    "train_dl = DataLoader(train_ds, batch_size=64, shuffle=True)\n",
    "\n",
    "val_ds = TensorDataset(torch.FloatTensor(val_X).unsqueeze(1).contiguous(), torch.FloatTensor(val_y))\n",
    "val_dl = DataLoader(val_ds, batch_size=64, shuffle=False)"
   ]
  },
  {
   "cell_type": "code",
   "execution_count": 4,
   "metadata": {
    "ExecuteTime": {
     "end_time": "2019-06-18T15:55:52.288260Z",
     "start_time": "2019-06-18T15:55:51.907307Z"
    }
   },
   "outputs": [
    {
     "data": {
      "text/plain": [
       "[<matplotlib.lines.Line2D at 0x22eef132978>]"
      ]
     },
     "execution_count": 4,
     "metadata": {},
     "output_type": "execute_result"
    },
    {
     "data": {
      "image/png": "[encoded data removed]",
      "text/plain": [
       "<Figure size 432x288 with 1 Axes>"
      ]
     },
     "metadata": {},
     "output_type": "display_data"
    }
   ],
   "source": [
    "import matplotlib.pyplot as plt\n",
    "%matplotlib inline\n",
    "\n",
    "plt.plot(train_X[9])"
   ]
  },
  {
   "cell_type": "code",
   "execution_count": 5,
   "metadata": {
    "ExecuteTime": {
     "end_time": "2019-06-18T15:55:52.300259Z",
     "start_time": "2019-06-18T15:55:52.289262Z"
    }
   },
   "outputs": [],
   "source": [
    "# Raw Waveform-based Audio Classification Using Sample-level CNN Architectures\n",
    "# https://arxiv.org/pdf/1712.00866.pdf\n",
    "\n",
    "ConvBlock = lambda in_channels, out_channels: nn.Sequential(\n",
    "            nn.Conv1d(in_channels, out_channels, kernel_size=3, padding=1),\n",
    "            nn.BatchNorm1d(out_channels),\n",
    "            nn.ReLU(),\n",
    "            nn.MaxPool1d(kernel_size=3),\n",
    ")\n",
    "\n",
    "class Dropout1d(nn.Module):\n",
    "    def __init__(self):\n",
    "        super().__init__()\n",
    "        self.dropout = nn.Dropout(0.2)\n",
    "    \n",
    "    def forward(self, x):\n",
    "        return self.dropout(x.unsqueeze(-1)).squeeze(-1)\n",
    "\n",
    "class ResBlock(nn.Module):\n",
    "    def __init__(self, channels):\n",
    "        super().__init__()\n",
    "        self.process = nn.Sequential(\n",
    "            nn.Conv1d(channels, channels, kernel_size=3, padding=1),\n",
    "            nn.BatchNorm1d(channels),\n",
    "            nn.ReLU(),\n",
    "            Dropout1d(),\n",
    "            nn.Conv1d(channels, channels, kernel_size=3, padding=1),\n",
    "            nn.BatchNorm1d(channels)            \n",
    "        )\n",
    "        \n",
    "        self.gate = nn.Sequential(\n",
    "            nn.Linear(channels, 2 * channels),\n",
    "            nn.ReLU(),\n",
    "            nn.Linear(2 * channels, channels),\n",
    "            nn.Sigmoid()\n",
    "        )\n",
    "        \n",
    "        self.postprocess = nn.Sequential(\n",
    "            nn.ReLU(),\n",
    "            nn.MaxPool1d(kernel_size=3)\n",
    "        )\n",
    "        \n",
    "    def forward(self, x):\n",
    "        y = self.process(x)\n",
    "        g = self.gate(x.mean(dim=-1))\n",
    "        return self.postprocess(x + y * g[:, :, None])\n",
    "\n",
    "class ReSE_2_Multi(nn.Module):\n",
    "    def __init__(self):\n",
    "        super().__init__()\n",
    "        \n",
    "        self.convs = nn.Sequential(\n",
    "            nn.Conv1d(1, 64, kernel_size=3, stride=3),\n",
    "            nn.BatchNorm1d(64),\n",
    "            nn.ReLU(),\n",
    "            ResBlock(64),\n",
    "            ResBlock(64),\n",
    "            ResBlock(64),\n",
    "            ResBlock(64),\n",
    "            ResBlock(64),\n",
    "            ResBlock(64),\n",
    "            ResBlock(64),\n",
    "            ResBlock(64),\n",
    "            ResBlock(64),\n",
    "        )\n",
    "        \n",
    "        self.levels = 3\n",
    "        self.head = nn.Linear(64 * self.levels, 80)\n",
    "        \n",
    "    def forward(self, x):\n",
    "        x = self.convs[:-self.levels](x)\n",
    "        \n",
    "        last_features = []\n",
    "        for module in self.convs[-self.levels:]:\n",
    "            x = module(x)\n",
    "            last_features.append(torch.max(x, dim=-1)[0])\n",
    "            \n",
    "        features = torch.cat(last_features, dim=1)\n",
    "        \n",
    "        return self.head(features)"
   ]
  },
  {
   "cell_type": "code",
   "execution_count": 6,
   "metadata": {
    "ExecuteTime": {
     "end_time": "2019-06-18T15:55:54.384508Z",
     "start_time": "2019-06-18T15:55:52.301254Z"
    }
   },
   "outputs": [],
   "source": [
    "device = torch.device('cuda' if torch.cuda.is_available() else 'cpu')\n",
    "criterion = nn.BCEWithLogitsLoss()\n",
    "\n",
    "model = ReSE_2_Multi()\n",
    "optimizer = torch.optim.Adam(model.parameters(), lr=1e-3)\n",
    "logdir = join_path('ReSE_2_Multi_logdir')\n",
    "\n",
    "trainer = Trainer(model, optimizer, criterion, device, logdir)\n",
    "\n",
    "scheduler = lr_scheduler.ReduceLROnPlateau(\n",
    "    optimizer=optimizer,\n",
    "    mode='max',\n",
    "    factor=0.5,\n",
    "    patience=10,\n",
    "    verbose=True\n",
    ")"
   ]
  },
  {
   "cell_type": "code",
   "execution_count": 7,
   "metadata": {
    "ExecuteTime": {
     "end_time": "2019-06-18T15:55:54.394489Z",
     "start_time": "2019-06-18T15:55:54.385492Z"
    }
   },
   "outputs": [
    {
     "name": "stdout",
     "output_type": "stream",
     "text": [
      "Numebr of parameters:  389648\n"
     ]
    }
   ],
   "source": [
    "print(\"Numebr of parameters: \", sum(p.numel() for p in model.parameters() if p.requires_grad))"
   ]
  },
  {
   "cell_type": "code",
   "execution_count": 8,
   "metadata": {
    "ExecuteTime": {
     "end_time": "2019-06-18T16:48:24.550381Z",
     "start_time": "2019-06-18T15:55:54.396488Z"
    }
   },
   "outputs": [
    {
     "name": "stdout",
     "output_type": "stream",
     "text": [
      "Epoch, best_val_lwlrap\n",
      "   1, 0.1543\n",
      "   2, 0.2198\n",
      "   3, 0.2926\n",
      "   4, 0.3128\n",
      "   5, 0.3546\n",
      "   6, 0.3702\n",
      "   7, 0.4196\n",
      "   8, 0.4387\n",
      "   9, 0.4557\n",
      "  10, 0.4780\n",
      "  12, 0.5283\n",
      "  13, 0.5386\n",
      "  14, 0.5500\n",
      "  18, 0.5552\n",
      "  19, 0.5929\n",
      "  22, 0.6040\n",
      "  25, 0.6122\n",
      "  28, 0.6220\n",
      "  29, 0.6270\n",
      "  31, 0.6349\n",
      "  36, 0.6394\n",
      "  38, 0.6438\n",
      "  45, 0.6452\n",
      "  47, 0.6614\n",
      "Epoch    58: reducing learning rate of group 0 to 5.0000e-04.\n",
      "  61, 0.6651\n",
      "  62, 0.6740\n",
      "  66, 0.6787\n",
      "Epoch    77: reducing learning rate of group 0 to 2.5000e-04.\n",
      "  78, 0.6801\n",
      "  82, 0.6866\n",
      "Epoch    93: reducing learning rate of group 0 to 1.2500e-04.\n",
      " 100, 0.6882\n",
      "Epoch   111: reducing learning rate of group 0 to 6.2500e-05.\n",
      "Done.\n"
     ]
    }
   ],
   "source": [
    "losses, best_loss, epoch_time = utils.train_model(trainer, train_dl, val_dl, val_y, scheduler,\n",
    "                                            n_epochs=200, gap=20, verbose=True)"
   ]
  },
  {
   "cell_type": "code",
   "execution_count": 9,
   "metadata": {
    "ExecuteTime": {
     "end_time": "2019-06-18T16:48:24.556359Z",
     "start_time": "2019-06-18T16:48:24.551362Z"
    }
   },
   "outputs": [
    {
     "data": {
      "text/plain": [
       "(25.246811978022258, 0.6882215948606683)"
      ]
     },
     "execution_count": 9,
     "metadata": {},
     "output_type": "execute_result"
    }
   ],
   "source": [
    "epoch_time, best_loss"
   ]
  },
  {
   "cell_type": "code",
   "execution_count": 10,
   "metadata": {
    "ExecuteTime": {
     "end_time": "2019-06-18T16:48:24.684092Z",
     "start_time": "2019-06-18T16:48:24.557360Z"
    }
   },
   "outputs": [
    {
     "data": {
      "text/plain": [
       "0.0006462896478329251"
      ]
     },
     "execution_count": 10,
     "metadata": {},
     "output_type": "execute_result"
    }
   ],
   "source": [
    "min(losses['val']['logloss'])"
   ]
  },
  {
   "cell_type": "code",
   "execution_count": 11,
   "metadata": {
    "ExecuteTime": {
     "end_time": "2019-06-18T16:48:24.911291Z",
     "start_time": "2019-06-18T16:48:24.685122Z"
    }
   },
   "outputs": [
    {
     "data": {
      "text/plain": [
       "Text(0.5,1,'Logloss')"
      ]
     },
     "execution_count": 11,
     "metadata": {},
     "output_type": "execute_result"
    },
    {
     "data": {
      "image/png": "[encoded data removed]",
      "text/plain": [
       "<Figure size 432x288 with 1 Axes>"
      ]
     },
     "metadata": {},
     "output_type": "display_data"
    }
   ],
   "source": [
    "plt.plot(losses['train']['logloss'])\n",
    "plt.plot(losses['val']['logloss'])\n",
    "plt.legend(['train', 'val'])\n",
    "\n",
    "plt.xlabel('Epoch')\n",
    "plt.ylabel('Loss')\n",
    "\n",
    "plt.title('Logloss')"
   ]
  },
  {
   "cell_type": "code",
   "execution_count": 12,
   "metadata": {
    "ExecuteTime": {
     "end_time": "2019-06-18T16:48:25.021219Z",
     "start_time": "2019-06-18T16:48:24.912281Z"
    }
   },
   "outputs": [
    {
     "data": {
      "text/plain": [
       "Text(0.5,1,'Lwlrap')"
      ]
     },
     "execution_count": 12,
     "metadata": {},
     "output_type": "execute_result"
    },
    {
     "data": {
      "image/png": "[encoded data removed]",
      "text/plain": [
       "<Figure size 432x288 with 1 Axes>"
      ]
     },
     "metadata": {},
     "output_type": "display_data"
    }
   ],
   "source": [
    "plt.plot(losses['train']['lwlrap'])\n",
    "plt.plot(losses['val']['lwlrap'])\n",
    "plt.legend(['train', 'val'])\n",
    "\n",
    "plt.xlabel('Epoch')\n",
    "plt.ylabel('Loss')\n",
    "\n",
    "plt.title('Lwlrap')"
   ]
  }
 ],
 "metadata": {
  "kernelspec": {
   "display_name": "Python 3",
   "language": "python",
   "name": "python3"
  },
  "language_info": {
   "codemirror_mode": {
    "name": "ipython",
    "version": 3
   },
   "file_extension": ".py",
   "mimetype": "text/x-python",
   "name": "python",
   "nbconvert_exporter": "python",
   "pygments_lexer": "ipython3",
   "version": "3.6.8"
  },
  "latex_envs": {
   "LaTeX_envs_menu_present": true,
   "autoclose": false,
   "autocomplete": true,
   "bibliofile": "biblio.bib",
   "cite_by": "apalike",
   "current_citInitial": 1,
   "eqLabelWithNumbers": true,
   "eqNumInitial": 1,
   "hotkeys": {
    "equation": "Ctrl-E",
    "itemize": "Ctrl-I"
   },
   "labels_anchors": false,
   "latex_user_defs": false,
   "report_style_numbering": false,
   "user_envs_cfg": false
  },
  "notify_time": "5"
 },
 "nbformat": 4,
 "nbformat_minor": 2
}
