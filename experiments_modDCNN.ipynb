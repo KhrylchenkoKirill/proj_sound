{
 "cells": [
  {
   "cell_type": "code",
   "execution_count": 1,
   "metadata": {},
   "outputs": [],
   "source": [
    "import numpy as np\n",
    "import pandas as pd\n",
    "\n",
    "import os\n",
    "import glob\n",
    "import librosa\n",
    "import tqdm\n",
    "import pickle\n",
    "import time\n",
    "\n",
    "from collections import Counter, defaultdict\n",
    "\n",
    "from torch.utils.data import TensorDataset, DataLoader, Dataset\n",
    "from torch.optim import lr_scheduler\n",
    "from torch import nn\n",
    "import torch.nn.functional as F\n",
    "import torch\n",
    "\n",
    "from skmultilearn.model_selection import iterative_train_test_split\n",
    "\n",
    "import matplotlib.pyplot as plt\n",
    "import seaborn as sns\n",
    "\n",
    "import utils\n",
    "from flame import Trainer\n",
    "\n",
    "sns.set()\n",
    "\n",
    "DATA_PATH = './data'\n",
    "join_path = lambda path: os.path.join(DATA_PATH, path)"
   ]
  },
  {
   "cell_type": "code",
   "execution_count": 2,
   "metadata": {},
   "outputs": [],
   "source": [
    "with open(join_path('train_mels.pkl'), 'rb+') as f:\n",
    "    train_X = pickle.load(f)\n",
    "    \n",
    "with open(join_path('val_mels.pkl'), 'rb+') as f:\n",
    "    val_X = pickle.load(f)\n",
    "    \n",
    "train_y = np.load(join_path('train_targets.npy'))\n",
    "val_y = np.load(join_path('val_targets.npy'))"
   ]
  },
  {
   "cell_type": "code",
   "execution_count": 3,
   "metadata": {},
   "outputs": [],
   "source": [
    "train_ds = utils.create_ds(train_X, train_y)\n",
    "train_dl = DataLoader(train_ds, batch_size=64, shuffle=True)\n",
    "\n",
    "val_ds = utils.create_ds(val_X, val_y)\n",
    "val_dl = DataLoader(val_ds, batch_size=64, shuffle=False)"
   ]
  },
  {
   "cell_type": "code",
   "execution_count": 6,
   "metadata": {},
   "outputs": [],
   "source": [
    "# Learning Sound Event Classifiers from Web Audio with Noisy Labels\n",
    "# https://arxiv.org/abs/1901.01189\n",
    "\n",
    "class ModifiedDCNN(nn.Module):\n",
    "    def __init__(self, hid=256):\n",
    "        super().__init__()\n",
    "        self.convs = nn.Sequential(\n",
    "            nn.Conv2d(in_channels=1, out_channels=24, kernel_size=5),\n",
    "            nn.MaxPool2d(kernel_size=(4, 2), stride=(4, 2)),\n",
    "            nn.BatchNorm2d(24),\n",
    "            nn.LeakyReLU(),\n",
    "            nn.Conv2d(in_channels=24, out_channels=48, kernel_size=5),\n",
    "            nn.MaxPool2d(kernel_size=(4, 2), stride=(4, 2)),\n",
    "            nn.BatchNorm2d(48),\n",
    "            nn.LeakyReLU(),\n",
    "            nn.Conv2d(in_channels=48, out_channels=48,kernel_size=5),\n",
    "            nn.BatchNorm2d(48),\n",
    "            nn.LeakyReLU()\n",
    "        )\n",
    "        \n",
    "        self.clf = nn.Sequential(\n",
    "            nn.Dropout(0.5),\n",
    "            nn.Linear(in_features=2400, out_features=hid),\n",
    "            nn.LeakyReLU(),\n",
    "            nn.Dropout(0.5),\n",
    "            nn.Linear(in_features=hid, out_features=80)\n",
    "        )\n",
    "        \n",
    "        \n",
    "    def forward(self, x):\n",
    "        x = self.convs(x)\n",
    "        x = x.flatten(start_dim=1)\n",
    "        x = self.clf(x)\n",
    "        return x"
   ]
  },
  {
   "cell_type": "code",
   "execution_count": 7,
   "metadata": {},
   "outputs": [],
   "source": [
    "device = torch.device('cuda' if torch.cuda.is_available() else 'cpu')\n",
    "criterion = nn.BCEWithLogitsLoss()\n",
    "\n",
    "model = ModifiedDCNN(hid=256)\n",
    "optimizer = torch.optim.Adam(model.parameters(), lr=1e-3)\n",
    "logdir = join_path('ModifiedDCNN_logdir')\n",
    "\n",
    "trainer = Trainer(model, optimizer, criterion, device, logdir)\n",
    "\n",
    "scheduler = lr_scheduler.ReduceLROnPlateau(\n",
    "    optimizer=optimizer,\n",
    "    mode='max',\n",
    "    factor=0.5,\n",
    "    patience=10,\n",
    "    verbose=True\n",
    ")"
   ]
  },
  {
   "cell_type": "code",
   "execution_count": 8,
   "metadata": {},
   "outputs": [
    {
     "name": "stdout",
     "output_type": "stream",
     "text": [
      "Epoch, best_val_lwlrap\n",
      "   1, 0.1598\n",
      "   2, 0.2079\n",
      "   3, 0.2965\n",
      "   4, 0.3526\n",
      "   5, 0.3934\n",
      "   6, 0.4301\n",
      "   7, 0.4572\n",
      "   8, 0.4720\n",
      "   9, 0.5134\n",
      "  10, 0.5209\n",
      "  11, 0.5241\n",
      "  12, 0.5284\n",
      "  13, 0.5558\n",
      "  14, 0.5824\n",
      "  15, 0.5883\n",
      "  16, 0.6216\n",
      "  18, 0.6323\n",
      "  20, 0.6495\n",
      "  24, 0.6589\n",
      "  29, 0.6684\n",
      "  31, 0.6808\n",
      "  40, 0.6952\n",
      "  42, 0.6973\n",
      "Epoch    53: reducing learning rate of group 0 to 5.0000e-04.\n",
      "  54, 0.6981\n",
      "  55, 0.6988\n",
      "  57, 0.6991\n",
      "  67, 0.7028\n",
      "Epoch    78: reducing learning rate of group 0 to 2.5000e-04.\n",
      "Done.\n"
     ]
    }
   ],
   "source": [
    "losses, best_loss, epoch_time = utils.train_model(trainer, train_dl, val_dl, val_y, scheduler,\n",
    "                                            n_epochs=1000, gap=20, verbose=True)"
   ]
  },
  {
   "cell_type": "code",
   "execution_count": 9,
   "metadata": {},
   "outputs": [
    {
     "data": {
      "text/plain": [
       "(1.0241158584068561, 0.7027517104548191)"
      ]
     },
     "execution_count": 9,
     "metadata": {},
     "output_type": "execute_result"
    }
   ],
   "source": [
    "epoch_time, best_loss"
   ]
  },
  {
   "cell_type": "code",
   "execution_count": 10,
   "metadata": {},
   "outputs": [
    {
     "data": {
      "text/plain": [
       "Text(0.5, 1.0, 'Logloss')"
      ]
     },
     "execution_count": 10,
     "metadata": {},
     "output_type": "execute_result"
    },
    {
     "data": {
      "image/png": "[encoded data removed]",
      "text/plain": [
       "<Figure size 432x288 with 1 Axes>"
      ]
     },
     "metadata": {
      "needs_background": "light"
     },
     "output_type": "display_data"
    }
   ],
   "source": [
    "plt.plot(losses['train']['logloss'])\n",
    "plt.plot(losses['val']['logloss'])\n",
    "plt.legend(['train', 'val'])\n",
    "\n",
    "plt.xlabel('Epoch')\n",
    "plt.ylabel('Loss')\n",
    "\n",
    "plt.title('Logloss')"
   ]
  },
  {
   "cell_type": "code",
   "execution_count": 11,
   "metadata": {},
   "outputs": [
    {
     "data": {
      "text/plain": [
       "Text(0.5, 1.0, 'Lwlrap')"
      ]
     },
     "execution_count": 11,
     "metadata": {},
     "output_type": "execute_result"
    },
    {
     "data": {
      "image/png": "[encoded data removed]",
      "text/plain": [
       "<Figure size 432x288 with 1 Axes>"
      ]
     },
     "metadata": {
      "needs_background": "light"
     },
     "output_type": "display_data"
    }
   ],
   "source": [
    "plt.plot(losses['train']['lwlrap'])\n",
    "plt.plot(losses['val']['lwlrap'])\n",
    "plt.legend(['train', 'val'])\n",
    "\n",
    "plt.xlabel('Epoch')\n",
    "plt.ylabel('Loss')\n",
    "\n",
    "plt.title('Lwlrap')"
   ]
  },
  {
   "cell_type": "code",
   "execution_count": 12,
   "metadata": {},
   "outputs": [],
   "source": [
    "with open(join_path('ModifiedDCNN_losses.pkl'), 'wb+') as f:\n",
    "    pickle.dump(losses, f)"
   ]
  }
 ],
 "metadata": {
  "kernelspec": {
   "display_name": "Python 3",
   "language": "python",
   "name": "python3"
  },
  "language_info": {
   "codemirror_mode": {
    "name": "ipython",
    "version": 3
   },
   "file_extension": ".py",
   "mimetype": "text/x-python",
   "name": "python",
   "nbconvert_exporter": "python",
   "pygments_lexer": "ipython3",
   "version": "3.7.1"
  }
 },
 "nbformat": 4,
 "nbformat_minor": 2
}
